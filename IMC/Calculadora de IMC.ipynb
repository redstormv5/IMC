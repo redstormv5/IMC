{
 "cells": [
  {
   "cell_type": "markdown",
   "id": "e8baf2c2-50f4-4e8b-9c44-a36cdf361b52",
   "metadata": {},
   "source": [
    "Essa calculadora utiliza três informações: altura, peso e gênero.\n",
    "Para o mesmo IMC, pode ter mensagem diferente de acordo com o gênero.\n",
    "\n",
    "O primeiro bloco será responsavel pelas funções"
   ]
  },
  {
   "cell_type": "code",
   "execution_count": null,
   "id": "406180ea-d60c-493f-b4ca-459852d81340",
   "metadata": {},
   "outputs": [],
   "source": [
    "#calcula o IMC de acordo com o peso e altura\n",
    "def calculo(peso, altura):\n",
    "    imc = round((peso / altura ** 2),1)\n",
    "    return imc\n",
    "\n",
    "#a mensagem final dependerá da função mulher ou homem, de acordo com o gênero do usúario\n",
    "def mulher(imc):\n",
    "    if imc < 19:\n",
    "        print(f\"IMC {imc}: Abaixo do Peso\")\n",
    "    elif imc >=19 and imc < 24:\n",
    "        print(f\"IMC {imc}: Normal\")\n",
    "    elif imc >= 24 and imc < 29:\n",
    "        print(f\"IMC {imc}: Abesidade Leve\")\n",
    "    elif imc >= 29 and imc < 39:\n",
    "        print(f\"IMC {imc}: Obesidade Moderada\")\n",
    "    else:\n",
    "        print(f\"IMC {imc}: Obesidade Mórbida\")\n",
    "\n",
    "def homem(imc):\n",
    "    if imc < 20:\n",
    "        print(f\"IMC {imc}: Abaixo do Peso\")\n",
    "    elif imc >=20 and imc < 25:\n",
    "        print(f\"IMC {imc}: Normal\")\n",
    "    elif imc >= 25 and imc < 30:\n",
    "        print(f\"IMC {imc}: Abesidade Leve\")\n",
    "    elif imc >= 30 and imc < 40:\n",
    "        print(f\"IMC {imc}: Obesidade Moderada\")\n",
    "    else:\n",
    "        print(f\"IMC {imc}: Obesidade Mórbida\")\n",
    "\n",
    "#exibe o resultado de acordo com o gênero\n",
    "def resultado(imc,genero):\n",
    "    if genero == 1:\n",
    "        homem(imc)\n",
    "    else:\n",
    "        mulher(imc)"
   ]
  },
  {
   "cell_type": "markdown",
   "id": "f9483713-c788-48e5-8ba1-5e700866549f",
   "metadata": {},
   "source": [
    "Excecução do loop"
   ]
  },
  {
   "cell_type": "code",
   "execution_count": null,
   "id": "8a6b80a7-1f36-4be4-91a1-7cd1a7c6983e",
   "metadata": {},
   "outputs": [],
   "source": [
    "#utilizei while pós ela pode ser infinita\n",
    "while True:\n",
    "    #Nesse ponto o usúario insere seus dados\n",
    "    genero = int(input(\"Insira 1 ou 2\\nQual seu gênero? 1 - Masculino ou 2 - Feminino:\"))  \n",
    "    altura = float(input(\"Digite a altura em metros. Ex: 1.80\\nQual a sua altura?\"))\n",
    "    peso = float(input(\"Digite o peso em kg. Ex: 70.5\\nQual o seu peso?\"))\n",
    "\n",
    "    #Chama as funções\n",
    "    imc = calculo(peso,altura)\n",
    "    resultado(imc,genero)\n",
    "\n",
    "    #Pergunta se o usúario deseja realizar outro cálculo\n",
    "    final = int(input(\"Deseja realizar outro cálculo?\\n1 - Sim ou 2 - Não\"))\n",
    "\n",
    "    #interrompe o loop caso o usúario tenha digitado 2\n",
    "    if final == 2:\n",
    "        break"
   ]
  },
  {
   "cell_type": "code",
   "execution_count": null,
   "id": "ca73f34e-4ffb-4674-9c14-e5174d2570ca",
   "metadata": {},
   "outputs": [],
   "source": []
  }
 ],
 "metadata": {
  "kernelspec": {
   "display_name": "Python 3 (ipykernel)",
   "language": "python",
   "name": "python3"
  },
  "language_info": {
   "codemirror_mode": {
    "name": "ipython",
    "version": 3
   },
   "file_extension": ".py",
   "mimetype": "text/x-python",
   "name": "python",
   "nbconvert_exporter": "python",
   "pygments_lexer": "ipython3",
   "version": "3.12.7"
  }
 },
 "nbformat": 4,
 "nbformat_minor": 5
}
